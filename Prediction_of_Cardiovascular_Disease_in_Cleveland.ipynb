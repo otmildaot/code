{
  "nbformat": 4,
  "nbformat_minor": 0,
  "metadata": {
    "colab": {
      "provenance": [],
      "include_colab_link": true
    },
    "kernelspec": {
      "name": "python3",
      "display_name": "Python 3"
    }
  },
  "cells": [
    {
      "cell_type": "markdown",
      "metadata": {
        "id": "view-in-github",
        "colab_type": "text"
      },
      "source": [
        "<a href=\"https://colab.research.google.com/github/otmildaot/code/blob/main/Prediction_of_Cardiovascular_Disease_in_Cleveland.ipynb\" target=\"_parent\"><img src=\"https://colab.research.google.com/assets/colab-badge.svg\" alt=\"Open In Colab\"/></a>"
      ]
    },
    {
      "cell_type": "code",
      "metadata": {
        "id": "rqXD09N4qg2F"
      },
      "source": [
        "import warnings\n",
        "warnings.filterwarnings('ignore')"
      ],
      "execution_count": null,
      "outputs": []
    },
    {
      "cell_type": "markdown",
      "metadata": {
        "id": "qXX7CuADuEVK"
      },
      "source": [
        "Importing Required Libraries"
      ]
    },
    {
      "cell_type": "code",
      "metadata": {
        "id": "cL3SvaF4tNwH"
      },
      "source": [
        "import pandas as pd\n",
        "import numpy as np\n",
        "import matplotlib.pyplot as plt\n",
        "import seaborn as sns\n",
        "\n",
        "%matplotlib inline"
      ],
      "execution_count": null,
      "outputs": []
    },
    {
      "cell_type": "markdown",
      "metadata": {
        "id": "PRLmbU99uPdn"
      },
      "source": [
        "Loading the data"
      ]
    },
    {
      "cell_type": "code",
      "metadata": {
        "id": "7WAWIaYMti41"
      },
      "source": [
        "df = pd.read_csv('/content/drive/MyDrive/biostat/heart.csv')"
      ],
      "execution_count": null,
      "outputs": []
    },
    {
      "cell_type": "code",
      "metadata": {
        "id": "bi1YcsNjwsoE",
        "colab": {
          "base_uri": "https://localhost:8080/",
          "height": 162
        },
        "outputId": "c2f06e9c-e545-488c-aa93-ffd3c7744826"
      },
      "source": [
        "df.head(3)"
      ],
      "execution_count": null,
      "outputs": [
        {
          "output_type": "execute_result",
          "data": {
            "text/html": [
              "<div>\n",
              "<style scoped>\n",
              "    .dataframe tbody tr th:only-of-type {\n",
              "        vertical-align: middle;\n",
              "    }\n",
              "\n",
              "    .dataframe tbody tr th {\n",
              "        vertical-align: top;\n",
              "    }\n",
              "\n",
              "    .dataframe thead th {\n",
              "        text-align: right;\n",
              "    }\n",
              "</style>\n",
              "<table border=\"1\" class=\"dataframe\">\n",
              "  <thead>\n",
              "    <tr style=\"text-align: right;\">\n",
              "      <th></th>\n",
              "      <th>age</th>\n",
              "      <th>sex</th>\n",
              "      <th>cp</th>\n",
              "      <th>trestbps</th>\n",
              "      <th>chol</th>\n",
              "      <th>fbs</th>\n",
              "      <th>restecg</th>\n",
              "      <th>thalach</th>\n",
              "      <th>exang</th>\n",
              "      <th>oldpeak</th>\n",
              "      <th>slope</th>\n",
              "      <th>ca</th>\n",
              "      <th>thal</th>\n",
              "      <th>target</th>\n",
              "    </tr>\n",
              "  </thead>\n",
              "  <tbody>\n",
              "    <tr>\n",
              "      <th>0</th>\n",
              "      <td>63</td>\n",
              "      <td>1</td>\n",
              "      <td>3</td>\n",
              "      <td>145</td>\n",
              "      <td>233</td>\n",
              "      <td>1</td>\n",
              "      <td>0</td>\n",
              "      <td>150</td>\n",
              "      <td>0</td>\n",
              "      <td>2.3</td>\n",
              "      <td>0</td>\n",
              "      <td>0</td>\n",
              "      <td>1</td>\n",
              "      <td>1</td>\n",
              "    </tr>\n",
              "    <tr>\n",
              "      <th>1</th>\n",
              "      <td>37</td>\n",
              "      <td>1</td>\n",
              "      <td>2</td>\n",
              "      <td>130</td>\n",
              "      <td>250</td>\n",
              "      <td>0</td>\n",
              "      <td>1</td>\n",
              "      <td>187</td>\n",
              "      <td>0</td>\n",
              "      <td>3.5</td>\n",
              "      <td>0</td>\n",
              "      <td>0</td>\n",
              "      <td>2</td>\n",
              "      <td>1</td>\n",
              "    </tr>\n",
              "    <tr>\n",
              "      <th>2</th>\n",
              "      <td>41</td>\n",
              "      <td>0</td>\n",
              "      <td>1</td>\n",
              "      <td>130</td>\n",
              "      <td>204</td>\n",
              "      <td>0</td>\n",
              "      <td>0</td>\n",
              "      <td>172</td>\n",
              "      <td>0</td>\n",
              "      <td>1.4</td>\n",
              "      <td>2</td>\n",
              "      <td>0</td>\n",
              "      <td>2</td>\n",
              "      <td>1</td>\n",
              "    </tr>\n",
              "  </tbody>\n",
              "</table>\n",
              "</div>"
            ],
            "text/plain": [
              "   age  sex  cp  trestbps  chol  fbs  ...  exang  oldpeak  slope  ca  thal  target\n",
              "0   63    1   3       145   233    1  ...      0      2.3      0   0     1       1\n",
              "1   37    1   2       130   250    0  ...      0      3.5      0   0     2       1\n",
              "2   41    0   1       130   204    0  ...      0      1.4      2   0     2       1\n",
              "\n",
              "[3 rows x 14 columns]"
            ]
          },
          "metadata": {},
          "execution_count": 6
        }
      ]
    },
    {
      "cell_type": "code",
      "metadata": {
        "id": "isiaMKioE2ME",
        "colab": {
          "base_uri": "https://localhost:8080/",
          "height": 167
        },
        "outputId": "159355ae-cafe-4d9d-ae98-8bfc625c863f"
      },
      "source": [
        "df('target',0)"
      ],
      "execution_count": null,
      "outputs": [
        {
          "output_type": "error",
          "ename": "TypeError",
          "evalue": "ignored",
          "traceback": [
            "\u001b[0;31m---------------------------------------------------------------------------\u001b[0m",
            "\u001b[0;31mTypeError\u001b[0m                                 Traceback (most recent call last)",
            "\u001b[0;32m<ipython-input-7-37d81be81354>\u001b[0m in \u001b[0;36m<module>\u001b[0;34m()\u001b[0m\n\u001b[0;32m----> 1\u001b[0;31m \u001b[0mdf\u001b[0m\u001b[0;34m(\u001b[0m\u001b[0;34m'target'\u001b[0m\u001b[0;34m,\u001b[0m\u001b[0;36m0\u001b[0m\u001b[0;34m)\u001b[0m\u001b[0;34m\u001b[0m\u001b[0;34m\u001b[0m\u001b[0m\n\u001b[0m",
            "\u001b[0;31mTypeError\u001b[0m: 'DataFrame' object is not callable"
          ]
        }
      ]
    },
    {
      "cell_type": "markdown",
      "metadata": {
        "id": "Pt6hkxKXw6-q"
      },
      "source": [
        "Features of the Data Set"
      ]
    },
    {
      "cell_type": "code",
      "metadata": {
        "id": "ikXRsO8qw-3W",
        "colab": {
          "base_uri": "https://localhost:8080/"
        },
        "outputId": "62004c4c-57a8-45bf-c64c-9eb3ddb81ac9"
      },
      "source": [
        "df.info()"
      ],
      "execution_count": null,
      "outputs": [
        {
          "output_type": "stream",
          "name": "stdout",
          "text": [
            "<class 'pandas.core.frame.DataFrame'>\n",
            "RangeIndex: 303 entries, 0 to 302\n",
            "Data columns (total 14 columns):\n",
            " #   Column    Non-Null Count  Dtype  \n",
            "---  ------    --------------  -----  \n",
            " 0   age       303 non-null    int64  \n",
            " 1   sex       303 non-null    int64  \n",
            " 2   cp        303 non-null    int64  \n",
            " 3   trestbps  303 non-null    int64  \n",
            " 4   chol      303 non-null    int64  \n",
            " 5   fbs       303 non-null    int64  \n",
            " 6   restecg   303 non-null    int64  \n",
            " 7   thalach   303 non-null    int64  \n",
            " 8   exang     303 non-null    int64  \n",
            " 9   oldpeak   303 non-null    float64\n",
            " 10  slope     303 non-null    int64  \n",
            " 11  ca        303 non-null    int64  \n",
            " 12  thal      303 non-null    int64  \n",
            " 13  target    303 non-null    int64  \n",
            "dtypes: float64(1), int64(13)\n",
            "memory usage: 33.3 KB\n"
          ]
        }
      ]
    },
    {
      "cell_type": "code",
      "metadata": {
        "id": "dOfMUjX7xH0K",
        "colab": {
          "base_uri": "https://localhost:8080/"
        },
        "outputId": "17d7a131-6211-42a4-a8ea-dfa103e63d8c"
      },
      "source": [
        "print('Number of rows in the dataset: ',df.shape[0])\n",
        "print('Number of columns in the dataset: ',df.shape[1])"
      ],
      "execution_count": null,
      "outputs": [
        {
          "output_type": "stream",
          "name": "stdout",
          "text": [
            "Number of rows in the dataset:  303\n",
            "Number of columns in the dataset:  14\n"
          ]
        }
      ]
    },
    {
      "cell_type": "markdown",
      "metadata": {
        "id": "PQ5bNAWgy0r9"
      },
      "source": [
        "Checking for null values in the dataset"
      ]
    },
    {
      "cell_type": "code",
      "metadata": {
        "id": "IrLNrb-HyzLk",
        "colab": {
          "base_uri": "https://localhost:8080/"
        },
        "outputId": "84203ccd-3c41-4f54-82f2-f9753d3607c6"
      },
      "source": [
        "df.isnull().sum()"
      ],
      "execution_count": null,
      "outputs": [
        {
          "output_type": "execute_result",
          "data": {
            "text/plain": [
              "age         0\n",
              "sex         0\n",
              "cp          0\n",
              "trestbps    0\n",
              "chol        0\n",
              "fbs         0\n",
              "restecg     0\n",
              "thalach     0\n",
              "exang       0\n",
              "oldpeak     0\n",
              "slope       0\n",
              "ca          0\n",
              "thal        0\n",
              "target      0\n",
              "dtype: int64"
            ]
          },
          "metadata": {},
          "execution_count": 10
        }
      ]
    },
    {
      "cell_type": "code",
      "metadata": {
        "id": "ydp5_IhnzELI",
        "colab": {
          "base_uri": "https://localhost:8080/",
          "height": 315
        },
        "outputId": "fe91cfa2-0470-422a-e91c-fa205687102c"
      },
      "source": [
        "df.describe()"
      ],
      "execution_count": null,
      "outputs": [
        {
          "output_type": "execute_result",
          "data": {
            "text/html": [
              "<div>\n",
              "<style scoped>\n",
              "    .dataframe tbody tr th:only-of-type {\n",
              "        vertical-align: middle;\n",
              "    }\n",
              "\n",
              "    .dataframe tbody tr th {\n",
              "        vertical-align: top;\n",
              "    }\n",
              "\n",
              "    .dataframe thead th {\n",
              "        text-align: right;\n",
              "    }\n",
              "</style>\n",
              "<table border=\"1\" class=\"dataframe\">\n",
              "  <thead>\n",
              "    <tr style=\"text-align: right;\">\n",
              "      <th></th>\n",
              "      <th>age</th>\n",
              "      <th>sex</th>\n",
              "      <th>cp</th>\n",
              "      <th>trestbps</th>\n",
              "      <th>chol</th>\n",
              "      <th>fbs</th>\n",
              "      <th>restecg</th>\n",
              "      <th>thalach</th>\n",
              "      <th>exang</th>\n",
              "      <th>oldpeak</th>\n",
              "      <th>slope</th>\n",
              "      <th>ca</th>\n",
              "      <th>thal</th>\n",
              "      <th>target</th>\n",
              "    </tr>\n",
              "  </thead>\n",
              "  <tbody>\n",
              "    <tr>\n",
              "      <th>count</th>\n",
              "      <td>303.000000</td>\n",
              "      <td>303.000000</td>\n",
              "      <td>303.000000</td>\n",
              "      <td>303.000000</td>\n",
              "      <td>303.000000</td>\n",
              "      <td>303.000000</td>\n",
              "      <td>303.000000</td>\n",
              "      <td>303.000000</td>\n",
              "      <td>303.000000</td>\n",
              "      <td>303.000000</td>\n",
              "      <td>303.000000</td>\n",
              "      <td>303.000000</td>\n",
              "      <td>303.000000</td>\n",
              "      <td>303.000000</td>\n",
              "    </tr>\n",
              "    <tr>\n",
              "      <th>mean</th>\n",
              "      <td>54.366337</td>\n",
              "      <td>0.683168</td>\n",
              "      <td>0.966997</td>\n",
              "      <td>131.623762</td>\n",
              "      <td>246.264026</td>\n",
              "      <td>0.148515</td>\n",
              "      <td>0.528053</td>\n",
              "      <td>149.646865</td>\n",
              "      <td>0.326733</td>\n",
              "      <td>1.039604</td>\n",
              "      <td>1.399340</td>\n",
              "      <td>0.729373</td>\n",
              "      <td>2.313531</td>\n",
              "      <td>0.544554</td>\n",
              "    </tr>\n",
              "    <tr>\n",
              "      <th>std</th>\n",
              "      <td>9.082101</td>\n",
              "      <td>0.466011</td>\n",
              "      <td>1.032052</td>\n",
              "      <td>17.538143</td>\n",
              "      <td>51.830751</td>\n",
              "      <td>0.356198</td>\n",
              "      <td>0.525860</td>\n",
              "      <td>22.905161</td>\n",
              "      <td>0.469794</td>\n",
              "      <td>1.161075</td>\n",
              "      <td>0.616226</td>\n",
              "      <td>1.022606</td>\n",
              "      <td>0.612277</td>\n",
              "      <td>0.498835</td>\n",
              "    </tr>\n",
              "    <tr>\n",
              "      <th>min</th>\n",
              "      <td>29.000000</td>\n",
              "      <td>0.000000</td>\n",
              "      <td>0.000000</td>\n",
              "      <td>94.000000</td>\n",
              "      <td>126.000000</td>\n",
              "      <td>0.000000</td>\n",
              "      <td>0.000000</td>\n",
              "      <td>71.000000</td>\n",
              "      <td>0.000000</td>\n",
              "      <td>0.000000</td>\n",
              "      <td>0.000000</td>\n",
              "      <td>0.000000</td>\n",
              "      <td>0.000000</td>\n",
              "      <td>0.000000</td>\n",
              "    </tr>\n",
              "    <tr>\n",
              "      <th>25%</th>\n",
              "      <td>47.500000</td>\n",
              "      <td>0.000000</td>\n",
              "      <td>0.000000</td>\n",
              "      <td>120.000000</td>\n",
              "      <td>211.000000</td>\n",
              "      <td>0.000000</td>\n",
              "      <td>0.000000</td>\n",
              "      <td>133.500000</td>\n",
              "      <td>0.000000</td>\n",
              "      <td>0.000000</td>\n",
              "      <td>1.000000</td>\n",
              "      <td>0.000000</td>\n",
              "      <td>2.000000</td>\n",
              "      <td>0.000000</td>\n",
              "    </tr>\n",
              "    <tr>\n",
              "      <th>50%</th>\n",
              "      <td>55.000000</td>\n",
              "      <td>1.000000</td>\n",
              "      <td>1.000000</td>\n",
              "      <td>130.000000</td>\n",
              "      <td>240.000000</td>\n",
              "      <td>0.000000</td>\n",
              "      <td>1.000000</td>\n",
              "      <td>153.000000</td>\n",
              "      <td>0.000000</td>\n",
              "      <td>0.800000</td>\n",
              "      <td>1.000000</td>\n",
              "      <td>0.000000</td>\n",
              "      <td>2.000000</td>\n",
              "      <td>1.000000</td>\n",
              "    </tr>\n",
              "    <tr>\n",
              "      <th>75%</th>\n",
              "      <td>61.000000</td>\n",
              "      <td>1.000000</td>\n",
              "      <td>2.000000</td>\n",
              "      <td>140.000000</td>\n",
              "      <td>274.500000</td>\n",
              "      <td>0.000000</td>\n",
              "      <td>1.000000</td>\n",
              "      <td>166.000000</td>\n",
              "      <td>1.000000</td>\n",
              "      <td>1.600000</td>\n",
              "      <td>2.000000</td>\n",
              "      <td>1.000000</td>\n",
              "      <td>3.000000</td>\n",
              "      <td>1.000000</td>\n",
              "    </tr>\n",
              "    <tr>\n",
              "      <th>max</th>\n",
              "      <td>77.000000</td>\n",
              "      <td>1.000000</td>\n",
              "      <td>3.000000</td>\n",
              "      <td>200.000000</td>\n",
              "      <td>564.000000</td>\n",
              "      <td>1.000000</td>\n",
              "      <td>2.000000</td>\n",
              "      <td>202.000000</td>\n",
              "      <td>1.000000</td>\n",
              "      <td>6.200000</td>\n",
              "      <td>2.000000</td>\n",
              "      <td>4.000000</td>\n",
              "      <td>3.000000</td>\n",
              "      <td>1.000000</td>\n",
              "    </tr>\n",
              "  </tbody>\n",
              "</table>\n",
              "</div>"
            ],
            "text/plain": [
              "              age         sex          cp  ...          ca        thal      target\n",
              "count  303.000000  303.000000  303.000000  ...  303.000000  303.000000  303.000000\n",
              "mean    54.366337    0.683168    0.966997  ...    0.729373    2.313531    0.544554\n",
              "std      9.082101    0.466011    1.032052  ...    1.022606    0.612277    0.498835\n",
              "min     29.000000    0.000000    0.000000  ...    0.000000    0.000000    0.000000\n",
              "25%     47.500000    0.000000    0.000000  ...    0.000000    2.000000    0.000000\n",
              "50%     55.000000    1.000000    1.000000  ...    0.000000    2.000000    1.000000\n",
              "75%     61.000000    1.000000    2.000000  ...    1.000000    3.000000    1.000000\n",
              "max     77.000000    1.000000    3.000000  ...    4.000000    3.000000    1.000000\n",
              "\n",
              "[8 rows x 14 columns]"
            ]
          },
          "metadata": {},
          "execution_count": 11
        }
      ]
    },
    {
      "cell_type": "markdown",
      "metadata": {
        "id": "f1O3f5eTzRAv"
      },
      "source": [
        "**The features described in the above data set are:**\n",
        "\n",
        "**1. Count** tells us the number of NoN-empty rows in a feature.\n",
        "\n",
        "**2. Mean** tells us the mean value of that feature.\n",
        "\n",
        "**3. Std** tells us the Standard Deviation Value of that feature.\n",
        "\n",
        "**4. Min** tells us the minimum value of that feature.\n",
        "\n",
        "**5. 25%, 50%, and 75%** are the percentile/quartile of each features.\n",
        "\n",
        "**6. Max** tells us the maximum value of that feature."
      ]
    },
    {
      "cell_type": "markdown",
      "metadata": {
        "id": "hkJBgwaGzpRX"
      },
      "source": [
        "Checking features of Various attributes"
      ]
    },
    {
      "cell_type": "markdown",
      "metadata": {
        "id": "eDb6P0N1zxc1"
      },
      "source": [
        "1. Sex"
      ]
    },
    {
      "cell_type": "code",
      "metadata": {
        "id": "9PRwgQlnzNim",
        "colab": {
          "base_uri": "https://localhost:8080/",
          "height": 357
        },
        "outputId": "6f472a3a-6575-45bb-ebea-616be5dd654c"
      },
      "source": [
        "male=len(df[df['sex']==1])\n",
        "female=len(df[df['sex']==0])\n",
        "\n",
        "plt.figure(figsize=(8,6))\n",
        "\n",
        "#Data to plot\n",
        "\n",
        "labels='Male','Female'\n",
        "sizes=[male,female]\n",
        "colors=['skyblue','pink']\n",
        "explode=(0,0) #explode 1st slice\n",
        "\n",
        "#Plot\n",
        "plt.pie(sizes, explode=explode,labels=labels, colors=colors,autopct='%1.1f%%', shadow=True, startangle=90)\n",
        "\n",
        "plt.axis('equal')\n",
        "plt.show()"
      ],
      "execution_count": null,
      "outputs": [
        {
          "output_type": "display_data",
          "data": {
            "image/png": "[encoded data removed]",
            "text/plain": [
              "<Figure size 576x432 with 1 Axes>"
            ]
          },
          "metadata": {}
        }
      ]
    },
    {
      "cell_type": "markdown",
      "metadata": {
        "id": "mJLuzYBL4BCn"
      },
      "source": [
        "2. Chest Pain Type"
      ]
    },
    {
      "cell_type": "code",
      "metadata": {
        "id": "FcWBkeQn34x6",
        "colab": {
          "base_uri": "https://localhost:8080/",
          "height": 359
        },
        "outputId": "07a36958-3ad9-4d40-8bbf-6841c4a38746"
      },
      "source": [
        "plt.figure(figsize=(8,6))\n",
        "\n",
        "# Data to plot\n",
        "labels = 'Chest Pain Type:0','Chest Pain Type:1','Chest Pain Type:2','Chest Pain Type:3'\n",
        "sizes = [len(df[df['cp'] == 0]),len(df[df['cp'] == 1]),\n",
        "         len(df[df['cp'] == 2]),\n",
        "         len(df[df['cp'] == 3])]\n",
        "colors = ['skyblue', 'yellowgreen','orange','gold']\n",
        "explode = (0, 0,0,0)  # explode 1st slice\n",
        " \n",
        "# Plot\n",
        "plt.pie(sizes, explode=explode, labels=labels, colors=colors,\n",
        "autopct='%1.1f%%', shadow=True, startangle=180)\n",
        " \n",
        "plt.axis('equal')\n",
        "plt.show()"
      ],
      "execution_count": null,
      "outputs": [
        {
          "output_type": "display_data",
          "data": {
            "image/png": "[encoded data removed]",
            "text/plain": [
              "<Figure size 576x432 with 1 Axes>"
            ]
          },
          "metadata": {}
        }
      ]
    },
    {
      "cell_type": "markdown",
      "metadata": {
        "id": "7rYpHlqT4gIH"
      },
      "source": [
        "3. fbs: (Fasting Blood Sugar > 120 mg/dl) (1=True, 0 = false)"
      ]
    },
    {
      "cell_type": "code",
      "metadata": {
        "id": "OuaBMhA14wdB",
        "colab": {
          "base_uri": "https://localhost:8080/",
          "height": 357
        },
        "outputId": "47607874-cb9e-4d26-ef23-14e2afdaaea7"
      },
      "source": [
        "plt.figure(figsize=(8,6))\n",
        "\n",
        "# Data to plot\n",
        "labels = 'fasting blood sugar < 120 mg/dl','fasting blood sugar > 120 mg/dl'\n",
        "sizes = [len(df[df['fbs'] == 0]),len(df[df['cp'] == 1])]\n",
        "colors = ['skyblue', 'yellowgreen','orange','gold']\n",
        "explode = (0.1, 0)  # explode 1st slice\n",
        " \n",
        "# Plot\n",
        "plt.pie(sizes, explode=explode, labels=labels, colors=colors,\n",
        "autopct='%1.1f%%', shadow=True, startangle=180)\n",
        " \n",
        "plt.axis('equal')\n",
        "plt.show()"
      ],
      "execution_count": null,
      "outputs": [
        {
          "output_type": "display_data",
          "data": {
            "image/png": "[encoded data removed]",
            "text/plain": [
              "<Figure size 576x432 with 1 Axes>"
            ]
          },
          "metadata": {}
        }
      ]
    },
    {
      "cell_type": "markdown",
      "metadata": {
        "id": "xGACZYEB44tp"
      },
      "source": [
        "Exploratory Data Analysis"
      ]
    },
    {
      "cell_type": "code",
      "metadata": {
        "id": "XlsmPZSX49Jo"
      },
      "source": [
        "sns.set_style('whitegrid')"
      ],
      "execution_count": null,
      "outputs": []
    },
    {
      "cell_type": "markdown",
      "metadata": {
        "id": "qdwi7-Vt5Dzx"
      },
      "source": [
        "1. Heatmap"
      ]
    },
    {
      "cell_type": "code",
      "metadata": {
        "id": "MDLPzty45C4u",
        "colab": {
          "base_uri": "https://localhost:8080/",
          "height": 407
        },
        "outputId": "2031eb9b-9a83-48a6-80e2-455926523dd5"
      },
      "source": [
        "plt.figure(figsize=(14,8))\n",
        "sns.heatmap(df.corr(), annot = True, cmap='coolwarm',linewidths=.1)\n",
        "plt.show()"
      ],
      "execution_count": null,
      "outputs": [
        {
          "output_type": "display_data",
          "data": {
            "image/png": "[encoded data removed]",
            "text/plain": [
              "<Figure size 1008x576 with 2 Axes>"
            ]
          },
          "metadata": {}
        }
      ]
    },
    {
      "cell_type": "markdown",
      "metadata": {
        "id": "ZaGf3rbx6MGE"
      },
      "source": [
        "Plotting the distribution of various attributes"
      ]
    },
    {
      "cell_type": "markdown",
      "metadata": {
        "id": "C4wmKdOI6XBd"
      },
      "source": [
        "1. Maximum Heart Rate Achieved"
      ]
    },
    {
      "cell_type": "code",
      "metadata": {
        "id": "-OW2ZJAG6evq",
        "colab": {
          "base_uri": "https://localhost:8080/",
          "height": 298
        },
        "outputId": "25097b27-1959-4b8e-9a1d-33af44c1f07d"
      },
      "source": [
        "sns.distplot(df['thalach'],kde=False,bins=30,color='blue')"
      ],
      "execution_count": null,
      "outputs": [
        {
          "output_type": "execute_result",
          "data": {
            "text/plain": [
              "<matplotlib.axes._subplots.AxesSubplot at 0x7f9a0bb670d0>"
            ]
          },
          "metadata": {},
          "execution_count": 17
        },
        {
          "output_type": "display_data",
          "data": {
            "image/png": "[encoded data removed]",
            "text/plain": [
              "<Figure size 432x288 with 1 Axes>"
            ]
          },
          "metadata": {}
        }
      ]
    },
    {
      "cell_type": "markdown",
      "metadata": {
        "id": "Sgpj56P7BN2l"
      },
      "source": [
        "2. Chol: Serum Cholesttoral in mg/dl"
      ]
    },
    {
      "cell_type": "code",
      "metadata": {
        "id": "AR4Ou1646WdY",
        "colab": {
          "base_uri": "https://localhost:8080/",
          "height": 279
        },
        "outputId": "98319ce9-02a9-442f-fe24-504afa2c5dae"
      },
      "source": [
        "sns.distplot(df['chol'],kde=False,bins=30,color='red')\n",
        "plt.show()"
      ],
      "execution_count": null,
      "outputs": [
        {
          "output_type": "display_data",
          "data": {
            "image/png": "[encoded data removed]",
            "text/plain": [
              "<Figure size 432x288 with 1 Axes>"
            ]
          },
          "metadata": {}
        }
      ]
    },
    {
      "cell_type": "markdown",
      "metadata": {
        "id": "kPJXjilMDYD7"
      },
      "source": [
        "3. trestbps: Resting Blood Pressure (in mm Hg on admission to the hospital)"
      ]
    },
    {
      "cell_type": "code",
      "metadata": {
        "id": "NOL4b28PDj5m",
        "colab": {
          "base_uri": "https://localhost:8080/",
          "height": 279
        },
        "outputId": "5cdc490c-f129-47ad-9a24-cb4c77bebb24"
      },
      "source": [
        "sns.distplot(df['trestbps'],kde=False,bins=30,color='blue')\n",
        "plt.show()"
      ],
      "execution_count": null,
      "outputs": [
        {
          "output_type": "display_data",
          "data": {
            "image/png": "[encoded data removed]",
            "text/plain": [
              "<Figure size 432x288 with 1 Axes>"
            ]
          },
          "metadata": {}
        }
      ]
    },
    {
      "cell_type": "markdown",
      "metadata": {
        "id": "vFKBpJ1zD1fN"
      },
      "source": [
        "4. Number of People who have disease according to age"
      ]
    },
    {
      "cell_type": "code",
      "metadata": {
        "id": "VjudkqjtEAGn",
        "colab": {
          "base_uri": "https://localhost:8080/",
          "height": 288
        },
        "outputId": "e4de4b60-c122-4d44-8140-37c716d2f078"
      },
      "source": [
        "plt.figure(figsize=(15,6))\n",
        "sns.countplot(x='age',data = df, hue = 'target',palette='GnBu')\n",
        "plt.show()"
      ],
      "execution_count": null,
      "outputs": [
        {
          "output_type": "display_data",
          "data": {
            "image/png": "[encoded data removed]",
            "text/plain": [
              "<Figure size 1080x432 with 1 Axes>"
            ]
          },
          "metadata": {}
        }
      ]
    },
    {
      "cell_type": "markdown",
      "metadata": {
        "id": "EtjuBVDMEi5m"
      },
      "source": [
        "Making Prediction"
      ]
    },
    {
      "cell_type": "markdown",
      "metadata": {
        "id": "4_cSWhSJEtca"
      },
      "source": [
        "Splitting the dataset into training and test set"
      ]
    },
    {
      "cell_type": "code",
      "metadata": {
        "id": "2SXc5qvlErXb"
      },
      "source": [
        "X= df.drop('target',axis=1)\n",
        "y=df['target']"
      ],
      "execution_count": null,
      "outputs": []
    },
    {
      "cell_type": "code",
      "metadata": {
        "id": "Kjz_QNUcGyxq",
        "colab": {
          "base_uri": "https://localhost:8080/"
        },
        "outputId": "6ac90ce6-1a8b-4109-908c-4edb2265a99a"
      },
      "source": [
        "from sklearn.model_selection import train_test_split\n",
        "X_train,X_test,y_train,y_test = train_test_split(X,y,test_size=.3,random_state=42)\n",
        "print('Train', X_train.shape, y_train.shape)\n",
        "print('Test', X_test.shape, y_test.shape)\n"
      ],
      "execution_count": null,
      "outputs": [
        {
          "output_type": "stream",
          "name": "stdout",
          "text": [
            "Train (212, 13) (212,)\n",
            "Test (91, 13) (91,)\n"
          ]
        }
      ]
    },
    {
      "cell_type": "markdown",
      "metadata": {
        "id": "2_oS3FqdHKGD"
      },
      "source": [
        "Preprocessing - Scaling the features"
      ]
    },
    {
      "cell_type": "code",
      "metadata": {
        "id": "vA6GqYA-HQYQ"
      },
      "source": [
        "from sklearn.preprocessing import StandardScaler\n"
      ],
      "execution_count": null,
      "outputs": []
    },
    {
      "cell_type": "code",
      "metadata": {
        "id": "-QbgRs7kHX6a"
      },
      "source": [
        "scaler = StandardScaler()\n",
        "\n",
        "X_train_scaled = scaler.fit_transform(X_train)\n",
        "X_train = pd.DataFrame(X_train_scaled)\n",
        "\n",
        "X_test_scaled = scaler.transform(X_test)\n",
        "X_test = pd.DataFrame(X_test_scaled)"
      ],
      "execution_count": null,
      "outputs": []
    },
    {
      "cell_type": "code",
      "metadata": {
        "id": "NMa5O-LWZcyV",
        "colab": {
          "base_uri": "https://localhost:8080/"
        },
        "outputId": "ce005c8a-d6d7-415d-900e-3bdd429e0513"
      },
      "source": [
        "y_train"
      ],
      "execution_count": null,
      "outputs": [
        {
          "output_type": "execute_result",
          "data": {
            "text/plain": [
              "124    1\n",
              "72     1\n",
              "15     1\n",
              "10     1\n",
              "163    1\n",
              "      ..\n",
              "188    0\n",
              "71     1\n",
              "106    1\n",
              "270    0\n",
              "102    1\n",
              "Name: target, Length: 212, dtype: int64"
            ]
          },
          "metadata": {
            "tags": []
          },
          "execution_count": 26
        }
      ]
    },
    {
      "cell_type": "code",
      "metadata": {
        "id": "gESlsNK0ZzAy",
        "colab": {
          "base_uri": "https://localhost:8080/",
          "height": 402
        },
        "outputId": "88c1fd4b-4eb1-40a8-e72a-d19fbf5fb06b"
      },
      "source": [
        "X_train"
      ],
      "execution_count": null,
      "outputs": [
        {
          "output_type": "execute_result",
          "data": {
            "text/html": [
              "<div>\n",
              "<style scoped>\n",
              "    .dataframe tbody tr th:only-of-type {\n",
              "        vertical-align: middle;\n",
              "    }\n",
              "\n",
              "    .dataframe tbody tr th {\n",
              "        vertical-align: top;\n",
              "    }\n",
              "\n",
              "    .dataframe thead th {\n",
              "        text-align: right;\n",
              "    }\n",
              "</style>\n",
              "<table border=\"1\" class=\"dataframe\">\n",
              "  <thead>\n",
              "    <tr style=\"text-align: right;\">\n",
              "      <th></th>\n",
              "      <th>0</th>\n",
              "      <th>1</th>\n",
              "      <th>2</th>\n",
              "      <th>3</th>\n",
              "      <th>4</th>\n",
              "      <th>5</th>\n",
              "      <th>6</th>\n",
              "      <th>7</th>\n",
              "      <th>8</th>\n",
              "      <th>9</th>\n",
              "      <th>10</th>\n",
              "      <th>11</th>\n",
              "      <th>12</th>\n",
              "    </tr>\n",
              "  </thead>\n",
              "  <tbody>\n",
              "    <tr>\n",
              "      <th>0</th>\n",
              "      <td>-1.673396</td>\n",
              "      <td>-1.394433</td>\n",
              "      <td>0.952809</td>\n",
              "      <td>-2.147870</td>\n",
              "      <td>-0.886805</td>\n",
              "      <td>-0.382029</td>\n",
              "      <td>0.870139</td>\n",
              "      <td>1.271190</td>\n",
              "      <td>-0.687184</td>\n",
              "      <td>-0.931190</td>\n",
              "      <td>0.955317</td>\n",
              "      <td>-0.676291</td>\n",
              "      <td>-0.548882</td>\n",
              "    </tr>\n",
              "    <tr>\n",
              "      <th>1</th>\n",
              "      <td>-2.763624</td>\n",
              "      <td>0.717137</td>\n",
              "      <td>-0.013677</td>\n",
              "      <td>-0.027779</td>\n",
              "      <td>-0.795025</td>\n",
              "      <td>-0.382029</td>\n",
              "      <td>-1.031608</td>\n",
              "      <td>2.284485</td>\n",
              "      <td>-0.687184</td>\n",
              "      <td>-0.931190</td>\n",
              "      <td>0.955317</td>\n",
              "      <td>-0.676291</td>\n",
              "      <td>-0.548882</td>\n",
              "    </tr>\n",
              "    <tr>\n",
              "      <th>2</th>\n",
              "      <td>-0.474146</td>\n",
              "      <td>-1.394433</td>\n",
              "      <td>0.952809</td>\n",
              "      <td>-0.616693</td>\n",
              "      <td>-0.519684</td>\n",
              "      <td>-0.382029</td>\n",
              "      <td>0.870139</td>\n",
              "      <td>0.346008</td>\n",
              "      <td>-0.687184</td>\n",
              "      <td>0.537925</td>\n",
              "      <td>-0.677967</td>\n",
              "      <td>-0.676291</td>\n",
              "      <td>-0.548882</td>\n",
              "    </tr>\n",
              "    <tr>\n",
              "      <th>3</th>\n",
              "      <td>-0.038055</td>\n",
              "      <td>0.717137</td>\n",
              "      <td>-0.980163</td>\n",
              "      <td>0.561135</td>\n",
              "      <td>-0.152563</td>\n",
              "      <td>-0.382029</td>\n",
              "      <td>0.870139</td>\n",
              "      <td>0.434121</td>\n",
              "      <td>-0.687184</td>\n",
              "      <td>0.170646</td>\n",
              "      <td>0.955317</td>\n",
              "      <td>-0.676291</td>\n",
              "      <td>-0.548882</td>\n",
              "    </tr>\n",
              "    <tr>\n",
              "      <th>4</th>\n",
              "      <td>-1.782419</td>\n",
              "      <td>0.717137</td>\n",
              "      <td>0.952809</td>\n",
              "      <td>0.443352</td>\n",
              "      <td>-1.327350</td>\n",
              "      <td>-0.382029</td>\n",
              "      <td>0.870139</td>\n",
              "      <td>1.006853</td>\n",
              "      <td>-0.687184</td>\n",
              "      <td>-0.931190</td>\n",
              "      <td>0.955317</td>\n",
              "      <td>3.540580</td>\n",
              "      <td>-0.548882</td>\n",
              "    </tr>\n",
              "    <tr>\n",
              "      <th>...</th>\n",
              "      <td>...</td>\n",
              "      <td>...</td>\n",
              "      <td>...</td>\n",
              "      <td>...</td>\n",
              "      <td>...</td>\n",
              "      <td>...</td>\n",
              "      <td>...</td>\n",
              "      <td>...</td>\n",
              "      <td>...</td>\n",
              "      <td>...</td>\n",
              "      <td>...</td>\n",
              "      <td>...</td>\n",
              "      <td>...</td>\n",
              "    </tr>\n",
              "    <tr>\n",
              "      <th>207</th>\n",
              "      <td>-0.474146</td>\n",
              "      <td>0.717137</td>\n",
              "      <td>0.952809</td>\n",
              "      <td>0.561135</td>\n",
              "      <td>-0.262699</td>\n",
              "      <td>-0.382029</td>\n",
              "      <td>0.870139</td>\n",
              "      <td>0.566290</td>\n",
              "      <td>-0.687184</td>\n",
              "      <td>-0.380272</td>\n",
              "      <td>-0.677967</td>\n",
              "      <td>0.377927</td>\n",
              "      <td>1.137539</td>\n",
              "    </tr>\n",
              "    <tr>\n",
              "      <th>208</th>\n",
              "      <td>-0.365123</td>\n",
              "      <td>0.717137</td>\n",
              "      <td>0.952809</td>\n",
              "      <td>-2.147870</td>\n",
              "      <td>-0.372836</td>\n",
              "      <td>-0.382029</td>\n",
              "      <td>0.870139</td>\n",
              "      <td>0.169783</td>\n",
              "      <td>1.455214</td>\n",
              "      <td>-0.931190</td>\n",
              "      <td>0.955317</td>\n",
              "      <td>0.377927</td>\n",
              "      <td>1.137539</td>\n",
              "    </tr>\n",
              "    <tr>\n",
              "      <th>209</th>\n",
              "      <td>1.597286</td>\n",
              "      <td>0.717137</td>\n",
              "      <td>1.919296</td>\n",
              "      <td>1.738963</td>\n",
              "      <td>-0.244343</td>\n",
              "      <td>2.617604</td>\n",
              "      <td>-1.031608</td>\n",
              "      <td>-0.843512</td>\n",
              "      <td>-0.687184</td>\n",
              "      <td>-0.839370</td>\n",
              "      <td>-0.677967</td>\n",
              "      <td>0.377927</td>\n",
              "      <td>-0.548882</td>\n",
              "    </tr>\n",
              "    <tr>\n",
              "      <th>210</th>\n",
              "      <td>-0.910237</td>\n",
              "      <td>0.717137</td>\n",
              "      <td>-0.980163</td>\n",
              "      <td>-0.616693</td>\n",
              "      <td>0.030997</td>\n",
              "      <td>-0.382029</td>\n",
              "      <td>-1.031608</td>\n",
              "      <td>-0.270780</td>\n",
              "      <td>-0.687184</td>\n",
              "      <td>-0.196633</td>\n",
              "      <td>0.955317</td>\n",
              "      <td>-0.676291</td>\n",
              "      <td>1.137539</td>\n",
              "    </tr>\n",
              "    <tr>\n",
              "      <th>211</th>\n",
              "      <td>0.943150</td>\n",
              "      <td>-1.394433</td>\n",
              "      <td>-0.013677</td>\n",
              "      <td>0.561135</td>\n",
              "      <td>-0.960229</td>\n",
              "      <td>-0.382029</td>\n",
              "      <td>0.870139</td>\n",
              "      <td>1.271190</td>\n",
              "      <td>-0.687184</td>\n",
              "      <td>-0.931190</td>\n",
              "      <td>0.955317</td>\n",
              "      <td>1.432145</td>\n",
              "      <td>-0.548882</td>\n",
              "    </tr>\n",
              "  </tbody>\n",
              "</table>\n",
              "<p>212 rows × 13 columns</p>\n",
              "</div>"
            ],
            "text/plain": [
              "           0         1         2   ...        10        11        12\n",
              "0   -1.673396 -1.394433  0.952809  ...  0.955317 -0.676291 -0.548882\n",
              "1   -2.763624  0.717137 -0.013677  ...  0.955317 -0.676291 -0.548882\n",
              "2   -0.474146 -1.394433  0.952809  ... -0.677967 -0.676291 -0.548882\n",
              "3   -0.038055  0.717137 -0.980163  ...  0.955317 -0.676291 -0.548882\n",
              "4   -1.782419  0.717137  0.952809  ...  0.955317  3.540580 -0.548882\n",
              "..        ...       ...       ...  ...       ...       ...       ...\n",
              "207 -0.474146  0.717137  0.952809  ... -0.677967  0.377927  1.137539\n",
              "208 -0.365123  0.717137  0.952809  ...  0.955317  0.377927  1.137539\n",
              "209  1.597286  0.717137  1.919296  ... -0.677967  0.377927 -0.548882\n",
              "210 -0.910237  0.717137 -0.980163  ...  0.955317 -0.676291  1.137539\n",
              "211  0.943150 -1.394433 -0.013677  ...  0.955317  1.432145 -0.548882\n",
              "\n",
              "[212 rows x 13 columns]"
            ]
          },
          "metadata": {
            "tags": []
          },
          "execution_count": 27
        }
      ]
    },
    {
      "cell_type": "markdown",
      "metadata": {
        "id": "gAsMD1oBIGK4"
      },
      "source": [
        "1. Decision Tree"
      ]
    },
    {
      "cell_type": "markdown",
      "metadata": {
        "id": "ETKmPAW4IdPf"
      },
      "source": [
        "Implementing GridSearchCV to select the best parameters and applying k-NN Alghoritm"
      ]
    },
    {
      "cell_type": "code",
      "metadata": {
        "id": "-6yePceuPozu"
      },
      "source": [
        "from sklearn.model_selection import GridSearchCV"
      ],
      "execution_count": null,
      "outputs": []
    },
    {
      "cell_type": "code",
      "metadata": {
        "id": "2X6WC552IURC"
      },
      "source": [
        "from sklearn.tree import DecisionTreeClassifier\n",
        "dtree= DecisionTreeClassifier(random_state=7)\n"
      ],
      "execution_count": null,
      "outputs": []
    },
    {
      "cell_type": "code",
      "metadata": {
        "id": "QeqXz2GbWgtv"
      },
      "source": [
        "#Setting parameters for GridSearchCV\n",
        "params = {'max_features': ['auto', 'sqrt', 'log2'],\n",
        "          'min_samples_split': [2,3,4,5,6,7,8,9,10,11,12,13,14,15], \n",
        "          'min_samples_leaf':[1,2,3,4,5,6,7,8,9,10,11]}\n",
        "tree_model = GridSearchCV(dtree, param_grid=params, n_jobs=-1)"
      ],
      "execution_count": null,
      "outputs": []
    },
    {
      "cell_type": "code",
      "metadata": {
        "id": "C6W3Fv_xYJVx",
        "colab": {
          "base_uri": "https://localhost:8080/"
        },
        "outputId": "a7732ea1-dcbb-4468-aba1-fcc688eeca51"
      },
      "source": [
        "tree_model.fit(X_train,y_train)\n",
        "#Printing best parameters selected through GridSearchCV\n",
        "tree_model.best_params_"
      ],
      "execution_count": null,
      "outputs": [
        {
          "output_type": "execute_result",
          "data": {
            "text/plain": [
              "{'max_features': 'auto', 'min_samples_leaf': 4, 'min_samples_split': 11}"
            ]
          },
          "metadata": {
            "tags": []
          },
          "execution_count": 31
        }
      ]
    },
    {
      "cell_type": "markdown",
      "metadata": {
        "id": "lfhop9dZcgpW"
      },
      "source": [
        "Making Prediction"
      ]
    },
    {
      "cell_type": "code",
      "metadata": {
        "id": "gDGHye1ccfZe"
      },
      "source": [
        "predict_t = tree_model.predict(X_test)"
      ],
      "execution_count": null,
      "outputs": []
    },
    {
      "cell_type": "markdown",
      "metadata": {
        "id": "eZYaHez1cqNB"
      },
      "source": [
        "Accuracy Metrics"
      ]
    },
    {
      "cell_type": "code",
      "metadata": {
        "id": "gFbRs7yncsEg",
        "colab": {
          "base_uri": "https://localhost:8080/"
        },
        "outputId": "1b10d5e1-2638-448a-c461-85968546cb2f"
      },
      "source": [
        "from sklearn.metrics import accuracy_score\n",
        "print('Accuracy Score: ',accuracy_score(y_test,predict_t))\n",
        "print('Using Decision Tree we get an accuracy score of: ',\n",
        "      round(accuracy_score(y_test,predict_t),5)*100,'%')"
      ],
      "execution_count": null,
      "outputs": [
        {
          "output_type": "stream",
          "text": [
            "Accuracy Score:  0.7252747252747253\n",
            "Using Decision Tree we get an accuracy score of:  72.527 %\n"
          ],
          "name": "stdout"
        }
      ]
    },
    {
      "cell_type": "code",
      "metadata": {
        "id": "IV-UrG2CczPW"
      },
      "source": [
        "from sklearn.metrics import classification_report,roc_auc_score,roc_curve"
      ],
      "execution_count": null,
      "outputs": []
    },
    {
      "cell_type": "markdown",
      "metadata": {
        "id": "9k372WiOc10I"
      },
      "source": [
        "Classification Report"
      ]
    },
    {
      "cell_type": "code",
      "metadata": {
        "id": "nZlKQQQBc400",
        "colab": {
          "base_uri": "https://localhost:8080/"
        },
        "outputId": "0ad6d944-47cd-4b24-e9fa-affaedaf4998"
      },
      "source": [
        "print(classification_report(y_test,predict_t))"
      ],
      "execution_count": null,
      "outputs": [
        {
          "output_type": "stream",
          "text": [
            "              precision    recall  f1-score   support\n",
            "\n",
            "           0       0.67      0.76      0.71        41\n",
            "           1       0.78      0.70      0.74        50\n",
            "\n",
            "    accuracy                           0.73        91\n",
            "   macro avg       0.73      0.73      0.72        91\n",
            "weighted avg       0.73      0.73      0.73        91\n",
            "\n"
          ],
          "name": "stdout"
        }
      ]
    },
    {
      "cell_type": "markdown",
      "metadata": {
        "id": "g_zWANWHc_3A"
      },
      "source": [
        "Confusion Matrix"
      ]
    },
    {
      "cell_type": "code",
      "metadata": {
        "id": "U3_-gMCNc-JO",
        "colab": {
          "base_uri": "https://localhost:8080/"
        },
        "outputId": "b439268b-01bd-4c93-d0c6-c8e71b276fc7"
      },
      "source": [
        "from sklearn.metrics import confusion_matrix\n",
        "cnf_matrix = confusion_matrix(y_test,predict_t)\n",
        "cnf_matrix"
      ],
      "execution_count": null,
      "outputs": [
        {
          "output_type": "execute_result",
          "data": {
            "text/plain": [
              "array([[31, 10],\n",
              "       [15, 35]])"
            ]
          },
          "metadata": {
            "tags": []
          },
          "execution_count": 36
        }
      ]
    },
    {
      "cell_type": "code",
      "metadata": {
        "id": "bn1xqPFMdQSt",
        "colab": {
          "base_uri": "https://localhost:8080/",
          "height": 321
        },
        "outputId": "c8431fd3-bdf8-4296-ffed-3968e3c00158"
      },
      "source": [
        "class_names = [0,1]\n",
        "fig,ax = plt.subplots()\n",
        "tick_marks = np.arange(len(class_names))\n",
        "plt.xticks(tick_marks,class_names)\n",
        "plt.yticks(tick_marks,class_names)\n",
        "\n",
        "#create a heat map\n",
        "sns.heatmap(pd.DataFrame(cnf_matrix), annot = True, cmap = 'YlGnBu',\n",
        "           fmt = 'g')\n",
        "ax.xaxis.set_label_position('top')\n",
        "plt.tight_layout()\n",
        "plt.title('Confusion matrix for Decision Tree Model', y = 1.1)\n",
        "plt.ylabel('Actual label')\n",
        "plt.xlabel('Predicted label')\n",
        "plt.show()"
      ],
      "execution_count": null,
      "outputs": [
        {
          "output_type": "display_data",
          "data": {
            "image/png": "[encoded data removed]",
            "text/plain": [
              "<Figure size 432x288 with 2 Axes>"
            ]
          },
          "metadata": {
            "tags": []
          }
        }
      ]
    },
    {
      "cell_type": "markdown",
      "metadata": {
        "id": "OcBsB74WdVag"
      },
      "source": [
        "Receiver Operating Characteristic(ROC) Curve"
      ]
    },
    {
      "cell_type": "code",
      "metadata": {
        "id": "yO5EyB8xdbBP"
      },
      "source": [
        "#Get predicted probabilites\n",
        "target_probailities_tree = tree_model.predict_proba(X_test)[:,1]"
      ],
      "execution_count": null,
      "outputs": []
    },
    {
      "cell_type": "code",
      "metadata": {
        "id": "IgHvscBLdf_1"
      },
      "source": [
        "#Create true and false positive rates\n",
        "tree_false_positive_rate,tree_true_positive_rate,tree_threshold = roc_curve(y_test,\n",
        "                                                             target_probailities_tree)"
      ],
      "execution_count": null,
      "outputs": []
    },
    {
      "cell_type": "code",
      "metadata": {
        "id": "Er7bvtgVdhoA",
        "colab": {
          "base_uri": "https://localhost:8080/",
          "height": 404
        },
        "outputId": "d60bc2a0-f161-42e5-e87d-c942f97c9752"
      },
      "source": [
        "#Plot ROC Curve\n",
        "sns.set_style('whitegrid')\n",
        "plt.figure(figsize=(10,6))\n",
        "plt.title('Reciver Operating Characterstic Curve')\n",
        "plt.plot(tree_false_positive_rate,tree_true_positive_rate)\n",
        "plt.plot([0,1],ls='--')\n",
        "plt.plot([0,0],[1,0],c='.5')\n",
        "plt.plot([1,1],c='.5')\n",
        "plt.ylabel('True positive rate')\n",
        "plt.xlabel('False positive rate')\n",
        "plt.show()"
      ],
      "execution_count": null,
      "outputs": [
        {
          "output_type": "display_data",
          "data": {
            "image/png": "[encoded data removed]",
            "text/plain": [
              "<Figure size 720x432 with 1 Axes>"
            ]
          },
          "metadata": {
            "tags": []
          }
        }
      ]
    },
    {
      "cell_type": "code",
      "metadata": {
        "id": "9NwckBurdnph",
        "colab": {
          "base_uri": "https://localhost:8080/"
        },
        "outputId": "acb1e01b-1c44-492a-b1da-aae30a92c8c9"
      },
      "source": [
        "#Calculate area under the curve\n",
        "roc_auc_score(y_test,target_probailities_tree)"
      ],
      "execution_count": null,
      "outputs": [
        {
          "output_type": "execute_result",
          "data": {
            "text/plain": [
              "0.8212195121951219"
            ]
          },
          "metadata": {
            "tags": []
          },
          "execution_count": 41
        }
      ]
    },
    {
      "cell_type": "markdown",
      "metadata": {
        "id": "qvEfmZJQYRp3"
      },
      "source": [
        "2. Logistic Regression"
      ]
    },
    {
      "cell_type": "code",
      "metadata": {
        "id": "zRcR5cBcUHgY"
      },
      "source": [
        "from sklearn.linear_model import LogisticRegression\n",
        "log = LogisticRegression()"
      ],
      "execution_count": null,
      "outputs": []
    },
    {
      "cell_type": "code",
      "metadata": {
        "id": "K--BCEeiTdai"
      },
      "source": [
        "# Setting parameters for GridSearchCV\n",
        "params = {'penalty':['l1','l2'],\n",
        "         'C':[0.01,0.1,1,10,100],\n",
        "         'class_weight':['balanced',None]}\n",
        "log_model = GridSearchCV(log,param_grid=params,cv=10)"
      ],
      "execution_count": null,
      "outputs": []
    },
    {
      "cell_type": "code",
      "metadata": {
        "id": "7x1OFVpFUK2U",
        "colab": {
          "base_uri": "https://localhost:8080/"
        },
        "outputId": "7c007a48-0482-4cda-b13a-ff3b3c327e25"
      },
      "source": [
        "log_model.fit(X_train,y_train)"
      ],
      "execution_count": null,
      "outputs": [
        {
          "output_type": "execute_result",
          "data": {
            "text/plain": [
              "GridSearchCV(cv=10, error_score=nan,\n",
              "             estimator=LogisticRegression(C=1.0, class_weight=None, dual=False,\n",
              "                                          fit_intercept=True,\n",
              "                                          intercept_scaling=1, l1_ratio=None,\n",
              "                                          max_iter=100, multi_class='auto',\n",
              "                                          n_jobs=None, penalty='l2',\n",
              "                                          random_state=None, solver='lbfgs',\n",
              "                                          tol=0.0001, verbose=0,\n",
              "                                          warm_start=False),\n",
              "             iid='deprecated', n_jobs=None,\n",
              "             param_grid={'C': [0.01, 0.1, 1, 10, 100],\n",
              "                         'class_weight': ['balanced', None],\n",
              "                         'penalty': ['l1', 'l2']},\n",
              "             pre_dispatch='2*n_jobs', refit=True, return_train_score=False,\n",
              "             scoring=None, verbose=0)"
            ]
          },
          "metadata": {
            "tags": []
          },
          "execution_count": 44
        }
      ]
    },
    {
      "cell_type": "code",
      "metadata": {
        "id": "3exhfBYyElSh",
        "colab": {
          "base_uri": "https://localhost:8080/"
        },
        "outputId": "d6faaf9a-4834-4e61-faa5-a6ebc787bed8"
      },
      "source": [
        "print()"
      ],
      "execution_count": null,
      "outputs": [
        {
          "output_type": "stream",
          "text": [
            "\n"
          ],
          "name": "stdout"
        }
      ]
    },
    {
      "cell_type": "code",
      "metadata": {
        "id": "nkKLiPqjUQea"
      },
      "source": [
        "predict_l = log_model.predict(X_test)"
      ],
      "execution_count": null,
      "outputs": []
    },
    {
      "cell_type": "markdown",
      "metadata": {
        "id": "vQxYXOUNUX7p"
      },
      "source": [
        "Accuracy Metrics"
      ]
    },
    {
      "cell_type": "code",
      "metadata": {
        "id": "PjTgsoabUWOt",
        "colab": {
          "base_uri": "https://localhost:8080/"
        },
        "outputId": "c4343867-fd16-4e54-db4a-34de81aa668f"
      },
      "source": [
        "from sklearn.metrics import accuracy_score\n",
        "print('Accuracy Score: ',accuracy_score(y_test,predict_l))\n",
        "print('Using Logistic Regression we get an accuracy score of: ',\n",
        "      round(accuracy_score(y_test,predict_l),5)*100,'%')"
      ],
      "execution_count": null,
      "outputs": [
        {
          "output_type": "stream",
          "text": [
            "Accuracy Score:  0.8241758241758241\n",
            "Using Logistic Regression we get an accuracy score of:  82.418 %\n"
          ],
          "name": "stdout"
        }
      ]
    },
    {
      "cell_type": "code",
      "metadata": {
        "id": "nnptfkGAUgRW",
        "colab": {
          "base_uri": "https://localhost:8080/"
        },
        "outputId": "166ce936-8056-45f8-e80c-fb97cecc4791"
      },
      "source": [
        "from sklearn.metrics import recall_score,precision_score,classification_report,roc_auc_score,roc_curve\n",
        "\n",
        "print(classification_report(y_test,predict_l))"
      ],
      "execution_count": null,
      "outputs": [
        {
          "output_type": "stream",
          "text": [
            "              precision    recall  f1-score   support\n",
            "\n",
            "           0       0.80      0.80      0.80        41\n",
            "           1       0.84      0.84      0.84        50\n",
            "\n",
            "    accuracy                           0.82        91\n",
            "   macro avg       0.82      0.82      0.82        91\n",
            "weighted avg       0.82      0.82      0.82        91\n",
            "\n"
          ],
          "name": "stdout"
        }
      ]
    },
    {
      "cell_type": "markdown",
      "metadata": {
        "id": "5eu5fV_2Un8A"
      },
      "source": [
        "Confussion Matrix"
      ]
    },
    {
      "cell_type": "code",
      "metadata": {
        "id": "L_zkRVM7WZqW"
      },
      "source": [
        "from sklearn.metrics import confusion_matrix"
      ],
      "execution_count": null,
      "outputs": []
    },
    {
      "cell_type": "code",
      "metadata": {
        "id": "ng-XEC8sVvkF",
        "colab": {
          "base_uri": "https://localhost:8080/"
        },
        "outputId": "d22bea13-0b05-44eb-f309-3feab8eff394"
      },
      "source": [
        "cnf_matrix = confusion_matrix(y_test,predict_l)\n",
        "cnf_matrix"
      ],
      "execution_count": null,
      "outputs": [
        {
          "output_type": "execute_result",
          "data": {
            "text/plain": [
              "array([[33,  8],\n",
              "       [ 8, 42]])"
            ]
          },
          "metadata": {
            "tags": []
          },
          "execution_count": 50
        }
      ]
    },
    {
      "cell_type": "code",
      "metadata": {
        "id": "0iSXdu1uUqzS",
        "colab": {
          "base_uri": "https://localhost:8080/",
          "height": 325
        },
        "outputId": "95018031-0c50-431b-b75e-aaf70a328f4e"
      },
      "source": [
        "class_names = [0,1]\n",
        "fig,ax = plt.subplots()\n",
        "tick_marks = np.arange(len(class_names))\n",
        "plt.xticks(tick_marks,class_names)\n",
        "plt.yticks(tick_marks,class_names)\n",
        "#create a heat map\n",
        "sns.heatmap(pd.DataFrame(cnf_matrix), annot = True, cmap = 'YlGnBu',\n",
        "           fmt = 'g')\n",
        "ax.xaxis.set_label_position('top')\n",
        "plt.tight_layout()\n",
        "plt.title('Table 3: Confusion matrix for Logisitic Regression Model', y = 1.1)\n",
        "plt.ylabel('Actual label')\n",
        "plt.xlabel('Predicted label')\n",
        "plt.show()\n",
        "\n"
      ],
      "execution_count": null,
      "outputs": [
        {
          "output_type": "display_data",
          "data": {
            "image/png": "[encoded data removed]",
            "text/plain": [
              "<Figure size 432x288 with 2 Axes>"
            ]
          },
          "metadata": {
            "tags": []
          }
        }
      ]
    },
    {
      "cell_type": "markdown",
      "metadata": {
        "id": "YR3BvpWnXIm5"
      },
      "source": [
        "Receiver Operating Characteristic (ROC) Curve"
      ]
    },
    {
      "cell_type": "markdown",
      "source": [],
      "metadata": {
        "id": "Z6OCHy-8uM2V"
      }
    },
    {
      "cell_type": "code",
      "metadata": {
        "id": "hIF-3ITkXGvh"
      },
      "source": [
        "#Get predicted probabilites\n",
        "target_probailities_log = log_model.predict_proba(X_test)[:,1]"
      ],
      "execution_count": null,
      "outputs": []
    },
    {
      "cell_type": "code",
      "metadata": {
        "id": "WenvYHl5XUgm"
      },
      "source": [
        "#Create true and false positive rates\n",
        "log_false_positive_rate,log_true_positive_rate,log_threshold = roc_curve(y_test,\n",
        "                                                             target_probailities_log)"
      ],
      "execution_count": null,
      "outputs": []
    },
    {
      "cell_type": "code",
      "metadata": {
        "id": "PTcxkG6WXY4U",
        "colab": {
          "base_uri": "https://localhost:8080/",
          "height": 404
        },
        "outputId": "e1499328-9b64-4d69-907b-83d2c37a96ab"
      },
      "source": [
        "#Plot ROC Curve\n",
        "sns.set_style('whitegrid')\n",
        "plt.figure(figsize=(10,6))\n",
        "plt.title('Reciver Operating Characterstic Curve')\n",
        "plt.plot(log_false_positive_rate,log_true_positive_rate)\n",
        "plt.plot([0,1],ls='--')\n",
        "plt.plot([0,0],[1,0],c='.5')\n",
        "plt.plot([1,1],c='.5')\n",
        "plt.ylabel('True positive rate')\n",
        "plt.xlabel('False positive rate')\n",
        "plt.show()\n"
      ],
      "execution_count": null,
      "outputs": [
        {
          "output_type": "display_data",
          "data": {
            "image/png": "[encoded data removed]",
            "text/plain": [
              "<Figure size 720x432 with 1 Axes>"
            ]
          },
          "metadata": {
            "tags": []
          }
        }
      ]
    },
    {
      "cell_type": "code",
      "metadata": {
        "id": "2qvJN0p3XfUP",
        "colab": {
          "base_uri": "https://localhost:8080/"
        },
        "outputId": "03831d8c-69d1-4493-d581-c0fa8bcad6e5"
      },
      "source": [
        "#Calculate area under the curve\n",
        "roc_auc_score(y_test,target_probailities_log)"
      ],
      "execution_count": null,
      "outputs": [
        {
          "output_type": "execute_result",
          "data": {
            "text/plain": [
              "0.8814634146341463"
            ]
          },
          "metadata": {
            "tags": []
          },
          "execution_count": 55
        }
      ]
    },
    {
      "cell_type": "markdown",
      "metadata": {
        "id": "cIOFRZRCWMEh"
      },
      "source": [
        "3. Random Forest"
      ]
    },
    {
      "cell_type": "code",
      "metadata": {
        "id": "30W22gLgWOhH"
      },
      "source": [
        "from sklearn.ensemble import RandomForestClassifier\n",
        "clf=RandomForestClassifier(n_estimators=100)\n",
        "\n"
      ],
      "execution_count": null,
      "outputs": []
    },
    {
      "cell_type": "markdown",
      "source": [],
      "metadata": {
        "id": "dHYs4OyQprlV"
      }
    },
    {
      "cell_type": "code",
      "metadata": {
        "id": "nnBq8B8mXDb7",
        "colab": {
          "base_uri": "https://localhost:8080/"
        },
        "outputId": "6f80d40b-7558-428f-fe8b-ca74c429d9f6"
      },
      "source": [
        "clf.fit(X_train,y_train)"
      ],
      "execution_count": null,
      "outputs": [
        {
          "output_type": "execute_result",
          "data": {
            "text/plain": [
              "RandomForestClassifier(bootstrap=True, ccp_alpha=0.0, class_weight=None,\n",
              "                       criterion='gini', max_depth=None, max_features='auto',\n",
              "                       max_leaf_nodes=None, max_samples=None,\n",
              "                       min_impurity_decrease=0.0, min_impurity_split=None,\n",
              "                       min_samples_leaf=1, min_samples_split=2,\n",
              "                       min_weight_fraction_leaf=0.0, n_estimators=100,\n",
              "                       n_jobs=None, oob_score=False, random_state=None,\n",
              "                       verbose=0, warm_start=False)"
            ]
          },
          "metadata": {
            "tags": []
          },
          "execution_count": 57
        }
      ]
    },
    {
      "cell_type": "code",
      "metadata": {
        "id": "2zI4anrdXGp5"
      },
      "source": [
        "predict_r = clf.predict(X_test)"
      ],
      "execution_count": null,
      "outputs": []
    },
    {
      "cell_type": "code",
      "metadata": {
        "id": "Axpb6W26XSfk",
        "colab": {
          "base_uri": "https://localhost:8080/"
        },
        "outputId": "4954ca6b-11df-47d8-f8d7-149f037f467b"
      },
      "source": [
        "from sklearn.metrics import accuracy_score,confusion_matrix\n",
        "print('Accuracy Score: ',accuracy_score(y_test,predict_r))\n",
        "print('Using RandomForest we get an accuracy score of: ',\n",
        "      round(accuracy_score(y_test,predict_r),5)*100,'%')"
      ],
      "execution_count": null,
      "outputs": [
        {
          "output_type": "stream",
          "text": [
            "Accuracy Score:  0.8131868131868132\n",
            "Using RandomForest we get an accuracy score of:  81.319 %\n"
          ],
          "name": "stdout"
        }
      ]
    },
    {
      "cell_type": "code",
      "metadata": {
        "id": "Xb2GVLzdPtMF",
        "colab": {
          "base_uri": "https://localhost:8080/"
        },
        "outputId": "4eef5fcf-4849-4a7c-d506-6268d47d9099"
      },
      "source": [
        "from sklearn.metrics import recall_score,precision_score,classification_report,roc_auc_score,roc_curve\n",
        "\n",
        "print(classification_report(y_test,predict_r))"
      ],
      "execution_count": null,
      "outputs": [
        {
          "output_type": "stream",
          "text": [
            "              precision    recall  f1-score   support\n",
            "\n",
            "           0       0.80      0.78      0.79        41\n",
            "           1       0.82      0.84      0.83        50\n",
            "\n",
            "    accuracy                           0.81        91\n",
            "   macro avg       0.81      0.81      0.81        91\n",
            "weighted avg       0.81      0.81      0.81        91\n",
            "\n"
          ],
          "name": "stdout"
        }
      ]
    },
    {
      "cell_type": "code",
      "metadata": {
        "id": "JJmP1wDzZt7y"
      },
      "source": [
        "from sklearn.metrics import confusion_matrix"
      ],
      "execution_count": null,
      "outputs": []
    },
    {
      "cell_type": "code",
      "metadata": {
        "id": "K5j4bBNvZwh1",
        "colab": {
          "base_uri": "https://localhost:8080/"
        },
        "outputId": "a5c867bc-9a82-4809-cbaa-0fee4c1a2e46"
      },
      "source": [
        "cnf_matrix = confusion_matrix(y_test,predict_r)\n",
        "cnf_matrix"
      ],
      "execution_count": null,
      "outputs": [
        {
          "output_type": "execute_result",
          "data": {
            "text/plain": [
              "array([[32,  9],\n",
              "       [ 8, 42]])"
            ]
          },
          "metadata": {
            "tags": []
          },
          "execution_count": 62
        }
      ]
    },
    {
      "cell_type": "code",
      "metadata": {
        "id": "lEKy6V6lXiGf",
        "colab": {
          "base_uri": "https://localhost:8080/",
          "height": 325
        },
        "outputId": "c97ef9bb-22cf-4673-a136-4a8a75a08adc"
      },
      "source": [
        "class_names = [0,1]\n",
        "fig,ax = plt.subplots()\n",
        "tick_marks = np.arange(len(class_names))\n",
        "plt.xticks(tick_marks,class_names)\n",
        "plt.yticks(tick_marks,class_names)\n",
        "\n",
        "#create a heat map\n",
        "sns.heatmap(pd.DataFrame(cnf_matrix), annot = True, cmap = 'YlGnBu',\n",
        "           fmt = 'g')\n",
        "ax.xaxis.set_label_position('top')\n",
        "plt.tight_layout()\n",
        "plt.title('Table 4: Confusion matrix for Random Forest Model', y = 1.1)\n",
        "plt.ylabel('Actual label')\n",
        "plt.xlabel('Predicted label')\n",
        "plt.show()"
      ],
      "execution_count": null,
      "outputs": [
        {
          "output_type": "display_data",
          "data": {
            "image/png": "[encoded data removed]",
            "text/plain": [
              "<Figure size 432x288 with 2 Axes>"
            ]
          },
          "metadata": {
            "tags": []
          }
        }
      ]
    },
    {
      "cell_type": "code",
      "metadata": {
        "id": "lMeP56NhXyj5"
      },
      "source": [
        "#Get predicted probabilites\n",
        "target_probailities_ran = clf.predict_proba(X_test)[:,1]"
      ],
      "execution_count": null,
      "outputs": []
    },
    {
      "cell_type": "code",
      "metadata": {
        "id": "Ay4sHi86axks"
      },
      "source": [
        "#Create true and false positive rates\n",
        "ran_false_positive_rate,ran_true_positive_rate,ran_threshold = roc_curve(y_test,\n",
        "                                                             target_probailities_ran)"
      ],
      "execution_count": null,
      "outputs": []
    },
    {
      "cell_type": "code",
      "metadata": {
        "id": "GkQc4otgbC3S",
        "colab": {
          "base_uri": "https://localhost:8080/",
          "height": 404
        },
        "outputId": "d33ea534-0c27-413e-d8cb-9e914ef4eb2b"
      },
      "source": [
        "#Plot ROC Curve\n",
        "sns.set_style('whitegrid')\n",
        "plt.figure(figsize=(10,6))\n",
        "plt.title('Reciver Operating Characterstic Curve')\n",
        "plt.plot(ran_false_positive_rate,ran_true_positive_rate)\n",
        "plt.plot([0,1],ls='--')\n",
        "plt.plot([0,0],[1,0],c='.5')\n",
        "plt.plot([1,1],c='.5')\n",
        "plt.ylabel('True positive rate')\n",
        "plt.xlabel('False positive rate')\n",
        "plt.show()\n"
      ],
      "execution_count": null,
      "outputs": [
        {
          "output_type": "display_data",
          "data": {
            "image/png": "[encoded data removed]",
            "text/plain": [
              "<Figure size 720x432 with 1 Axes>"
            ]
          },
          "metadata": {
            "tags": []
          }
        }
      ]
    },
    {
      "cell_type": "code",
      "metadata": {
        "id": "z1InVnwqbVPb",
        "colab": {
          "base_uri": "https://localhost:8080/"
        },
        "outputId": "595ffa6b-02a7-47bd-ecbd-b4fbe5da325b"
      },
      "source": [
        "#Calculate area under the curve\n",
        "roc_auc_score(y_test,target_probailities_ran)"
      ],
      "execution_count": null,
      "outputs": [
        {
          "output_type": "execute_result",
          "data": {
            "text/plain": [
              "0.9063414634146342"
            ]
          },
          "metadata": {
            "tags": []
          },
          "execution_count": 67
        }
      ]
    },
    {
      "cell_type": "markdown",
      "metadata": {
        "id": "VJ8U5L1Wdwmz"
      },
      "source": [
        "Comparing ROC Curve of Logistic Regression and Decision Tree Random Forest"
      ]
    },
    {
      "cell_type": "code",
      "metadata": {
        "id": "wCx0EYfAK_GP",
        "colab": {
          "base_uri": "https://localhost:8080/",
          "height": 404
        },
        "outputId": "91fc00d8-39a2-4e49-b341-ea6308239e9a"
      },
      "source": [
        "#Plot ROC Curve\n",
        "sns.set_style('whitegrid')\n",
        "plt.figure(figsize=(10,6))\n",
        "plt.title('Reciver Operating Characterstic Curve')\n",
        "plt.plot(log_false_positive_rate,log_true_positive_rate,label='Logistic Regression')\n",
        "plt.plot(ran_false_positive_rate,ran_true_positive_rate,label='Random Forest')\n",
        "plt.plot([0,1],ls='--')\n",
        "plt.plot([0,0],[1,0],c='.5')\n",
        "plt.plot([1,1],c='.5')\n",
        "plt.ylabel('True positive rate')\n",
        "plt.xlabel('False positive rate')\n",
        "plt.legend()\n",
        "plt.show()"
      ],
      "execution_count": null,
      "outputs": [
        {
          "output_type": "display_data",
          "data": {
            "image/png": "[encoded data removed]",
            "text/plain": [
              "<Figure size 720x432 with 1 Axes>"
            ]
          },
          "metadata": {
            "tags": []
          }
        }
      ]
    }
  ]
}